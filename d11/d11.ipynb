{
 "cells": [
  {
   "cell_type": "markdown",
   "metadata": {},
   "source": [
    "## Day 11"
   ]
  },
  {
   "cell_type": "code",
   "execution_count": 74,
   "metadata": {},
   "outputs": [],
   "source": [
    "from typing import Text\n",
    "import numpy as np"
   ]
  },
  {
   "cell_type": "code",
   "execution_count": 104,
   "metadata": {},
   "outputs": [],
   "source": [
    "FILE_PATH: Text = \"../inputs/day11.txt\""
   ]
  },
  {
   "cell_type": "code",
   "execution_count": 103,
   "metadata": {},
   "outputs": [
    {
     "name": "stdout",
     "output_type": "stream",
     "text": [
      "7777838353\n",
      "2217272478\n",
      "3355318645\n",
      "2242618113\n",
      "7182468666\n",
      "5441641111\n",
      "4773862364\n",
      "5717125521\n",
      "7542127721\n",
      "4576678341"
     ]
    }
   ],
   "source": [
    "!cat ../inputs/day11.txt"
   ]
  },
  {
   "cell_type": "markdown",
   "metadata": {},
   "source": [
    "## Part#1"
   ]
  },
  {
   "cell_type": "code",
   "execution_count": 115,
   "metadata": {},
   "outputs": [],
   "source": [
    "def get_data(file_path: Text):\n",
    "    data = []\n",
    "    with open(file_path, \"r\") as f:\n",
    "        for text in f:\n",
    "            line = []\n",
    "            for n in text.strip():\n",
    "                line.append(int(n))\n",
    "            data.append(line)\n",
    "    return np.array(data)"
   ]
  },
  {
   "cell_type": "code",
   "execution_count": 126,
   "metadata": {},
   "outputs": [],
   "source": [
    "def simulate(file_path: Text, n_steps: int):\n",
    "    data = get_data(file_path)\n",
    "    n, m = data.shape\n",
    "\n",
    "    def flash(i,j):\n",
    "        data[i,j] = 0\n",
    "        cond = (lines >= i - 1) & (lines <= i+1) & (columns >= j-1) & (columns <= j+1 ) & (data != 0)\n",
    "        data[cond] += 1\n",
    "\n",
    "    flashes_sync = []\n",
    "    n_flash = 0\n",
    "    lines = np.array([ [i for _ in range(m)] for i in range(n)])\n",
    "    columns = np.array([ [i for i in range(m)] for _ in range(n)])\n",
    "    for step_n in range(n_steps):\n",
    "        data = data + 1\n",
    "        cond = data > 9\n",
    "        flag = np.sum(cond.astype(np.int32)) > 0\n",
    "        while flag:\n",
    "            i = lines[cond][0]\n",
    "            j = columns[cond][0]\n",
    "\n",
    "            flash(i,j)\n",
    "            n_flash+=1\n",
    "\n",
    "            # check if we should continue\n",
    "            cond = (data != 0) & (data > 9)\n",
    "            if np.sum(cond.astype(np.int32)) == 0:\n",
    "                flag = False\n",
    "\n",
    "        # check for sync flash\n",
    "        if (data == 0).all():\n",
    "            flashes_sync.append(step_n+1)\n",
    "\n",
    "        # print(f\"{n_flash} flashes after step {step_n+1}\")\n",
    "\n",
    "    return n_flash, flashes_sync"
   ]
  },
  {
   "cell_type": "code",
   "execution_count": 128,
   "metadata": {},
   "outputs": [
    {
     "data": {
      "text/plain": [
       "1656"
      ]
     },
     "execution_count": 128,
     "metadata": {},
     "output_type": "execute_result"
    }
   ],
   "source": [
    "n_flash, _ = simulate(\"../inputs/day11_sample.txt\", 100)\n",
    "n_flash"
   ]
  },
  {
   "cell_type": "code",
   "execution_count": 130,
   "metadata": {},
   "outputs": [
    {
     "data": {
      "text/plain": [
       "1721"
      ]
     },
     "execution_count": 130,
     "metadata": {},
     "output_type": "execute_result"
    }
   ],
   "source": [
    "n_flash, _ = simulate(\"../inputs/day11.txt\", 100)\n",
    "n_flash"
   ]
  },
  {
   "cell_type": "markdown",
   "metadata": {},
   "source": [
    "## Part #2"
   ]
  },
  {
   "cell_type": "code",
   "execution_count": 132,
   "metadata": {},
   "outputs": [
    {
     "data": {
      "text/plain": [
       "[195]"
      ]
     },
     "execution_count": 132,
     "metadata": {},
     "output_type": "execute_result"
    }
   ],
   "source": [
    "_, flashes_sync = simulate(\"../inputs/day11_sample.txt\", 200)\n",
    "flashes_sync"
   ]
  },
  {
   "cell_type": "code",
   "execution_count": 135,
   "metadata": {},
   "outputs": [
    {
     "data": {
      "text/plain": [
       "[298]"
      ]
     },
     "execution_count": 135,
     "metadata": {},
     "output_type": "execute_result"
    }
   ],
   "source": [
    "_, flashes_sync = simulate(\"../inputs/day11.txt\", 300)\n",
    "flashes_sync"
   ]
  },
  {
   "cell_type": "code",
   "execution_count": null,
   "metadata": {},
   "outputs": [],
   "source": []
  }
 ],
 "metadata": {
  "interpreter": {
   "hash": "a4d4d2a12c76e5a90c4cf79ed449cf18698ad488f1b9d8378d1d0e3718549435"
  },
  "kernelspec": {
   "display_name": "Python 3.7.3 64-bit ('venv': venv)",
   "language": "python",
   "name": "python3"
  },
  "language_info": {
   "codemirror_mode": {
    "name": "ipython",
    "version": 3
   },
   "file_extension": ".py",
   "mimetype": "text/x-python",
   "name": "python",
   "nbconvert_exporter": "python",
   "pygments_lexer": "ipython3",
   "version": "3.7.3"
  },
  "orig_nbformat": 4
 },
 "nbformat": 4,
 "nbformat_minor": 2
}
